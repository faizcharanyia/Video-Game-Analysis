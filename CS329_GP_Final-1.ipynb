{
  "nbformat": 4,
  "nbformat_minor": 0,
  "metadata": {
    "colab": {
      "provenance": [],
      "collapsed_sections": [
        "6JvjjMLoj3Wr"
      ]
    },
    "kernelspec": {
      "name": "python3",
      "display_name": "Python 3"
    },
    "language_info": {
      "name": "python"
    }
  },
  "cells": [
    {
      "cell_type": "markdown",
      "source": [
        "**The Evolution of Video Games from Sales to Satisfaction**\n",
        "\n",
        "Group Number: 44\n",
        "\n",
        "Student Name: Faiz Charanyia\n",
        "\n",
        "Student UT EID: FC8786\n",
        "\n",
        "Student Name: Rahul Sankar\n",
        "\n",
        "Student UT EID: rs58865\n",
        "\n",
        "Student Name: Nicholas Ghimire\n",
        "\n",
        "Student UT EID: ng24824\n",
        "\n",
        "Last Updated: 03/20/2024\n"
      ],
      "metadata": {
        "id": "YI2xThoTJfME"
      }
    },
    {
      "cell_type": "code",
      "source": [
        "pip install pycountry"
      ],
      "metadata": {
        "id": "cwry7y1RLmfX"
      },
      "execution_count": null,
      "outputs": []
    },
    {
      "cell_type": "code",
      "execution_count": null,
      "metadata": {
        "id": "wmpZthda-l7T"
      },
      "outputs": [],
      "source": [
        "import pandas as pd\n",
        "import numpy as np\n",
        "import json\n",
        "from numpy import polyfit, poly1d\n",
        "from scipy import stats\n",
        "from sklearn.metrics import mean_squared_error\n",
        "from numpy import sqrt\n",
        "import pycountry\n",
        "import matplotlib.pyplot as plt\n",
        "import plotly.express as px\n",
        "import altair as alt\n",
        "import seaborn as sns\n",
        "import plotly.graph_objects as go"
      ]
    },
    {
      "cell_type": "code",
      "source": [
        "# https://www.kaggle.com/datasets/beridzeg45/video-games\n",
        "VGRatingsData = pd.read_csv(\"./VideoGameRatings.csv\")\n",
        "\n",
        "# https://www.kaggle.com/datasets/ghassenkhaled/video-games-data/\n",
        "VGSalesData = pd.read_csv(\"./VideoGameSales.csv\")"
      ],
      "metadata": {
        "id": "-sV68w-GRjAD"
      },
      "execution_count": null,
      "outputs": []
    },
    {
      "cell_type": "markdown",
      "source": [
        "# Analysis"
      ],
      "metadata": {
        "id": "6JvjjMLoj3Wr"
      }
    },
    {
      "cell_type": "markdown",
      "source": [
        "## Part 1: VGRatings Data"
      ],
      "metadata": {
        "id": "Qh2nLqVNVE_u"
      }
    },
    {
      "cell_type": "code",
      "source": [
        "# What is the dataset size (how many rows and columns)?\n",
        "VGRatingsData.shape"
      ],
      "metadata": {
        "id": "aJ9KT-BSU1T9"
      },
      "execution_count": null,
      "outputs": []
    },
    {
      "cell_type": "code",
      "source": [
        "# What are the column names?\n",
        "VGRatingsData.columns"
      ],
      "metadata": {
        "id": "xpvclvpRVQ1X"
      },
      "execution_count": null,
      "outputs": []
    },
    {
      "cell_type": "markdown",
      "source": [
        "***Columns:***\n",
        "\n",
        "* **Title:** Name of the video game.\n",
        "\n",
        "* **Release Date:** The release date of the video game.\n",
        "\n",
        "* **Developer:** The company that developed the video game.\n",
        "\n",
        "* **Publisher:** The company that published the video game.\n",
        "\n",
        "* **Genres:** The genre(s) of the video game.\n",
        "\n",
        "* **Product Rating:** The ESRB rating of the video game.\n",
        "\n",
        "* **User Score:** The average user score rating.\n",
        "\n",
        "* **User Ratings Count:** The number of user ratings.\n",
        "\n",
        "* **Platforms Info:** Information about the platforms the video game is available on, including platform-specific metascores."
      ],
      "metadata": {
        "id": "XSOuKxoTWDnj"
      }
    },
    {
      "cell_type": "code",
      "source": [
        "# classifying each column\n",
        "column_classification = {\n",
        "    'Title': 'categorical',\n",
        "    'Release Date': 'ordinal',\n",
        "    'Developer': 'categorical',\n",
        "    'Publisher': 'categorical',\n",
        "    'Genres': 'categorical',\n",
        "    'Product Rating': 'ordinal',\n",
        "    'User Score': 'continuous',\n",
        "    'User Ratings Count': 'discrete',\n",
        "    'Platforms Info': 'categorical'\n",
        "}\n",
        "\n",
        "column_classification"
      ],
      "metadata": {
        "id": "OpNPV_FhWzbg"
      },
      "execution_count": null,
      "outputs": []
    },
    {
      "cell_type": "code",
      "source": [
        "# For categorical data, find the discrete values.\n",
        "cat_columns = [col for col, col_type in column_classification.items() if col_type == 'categorical']\n",
        "cat_data_analysis = {}\n",
        "\n",
        "for col in cat_columns:\n",
        "    unique_values = VGRatingsData[col].dropna().unique()\n",
        "    value_counts = VGRatingsData[col].value_counts()\n",
        "    mode = value_counts.idxmax()\n",
        "    cat_data_analysis[col] = {\n",
        "        'unique_values_count': len(unique_values),\n",
        "        'mode': mode,\n",
        "        'mode_count': value_counts.max(),\n",
        "        'top_5': value_counts[0:5].to_dict()\n",
        "    }"
      ],
      "metadata": {
        "id": "98aW87nlV4Xt"
      },
      "execution_count": null,
      "outputs": []
    },
    {
      "cell_type": "code",
      "source": [
        "cat_data_analysis['Developer']['top_5']"
      ],
      "metadata": {
        "id": "iuSHGH4zX6mq"
      },
      "execution_count": null,
      "outputs": []
    },
    {
      "cell_type": "code",
      "source": [
        "cat_data_analysis['Publisher']['top_5']"
      ],
      "metadata": {
        "id": "-v0JZts4X79H"
      },
      "execution_count": null,
      "outputs": []
    },
    {
      "cell_type": "code",
      "source": [
        "cat_data_analysis['Genres']['top_5']"
      ],
      "metadata": {
        "id": "0ghBfVQaX5HO"
      },
      "execution_count": null,
      "outputs": []
    },
    {
      "cell_type": "code",
      "source": [
        "cat_data_analysis['Platforms Info']['top_5']"
      ],
      "metadata": {
        "id": "umH1g2A8YA_m"
      },
      "execution_count": null,
      "outputs": []
    },
    {
      "cell_type": "code",
      "source": [
        "print(\"Title Column:\\n\")\n",
        "print(\"Mode:\", cat_data_analysis['Title']['mode'])\n",
        "print(\"Mode_Count:\",cat_data_analysis['Title']['mode_count'])\n",
        "print(\"Unique_Values:\",cat_data_analysis['Title']['unique_values_count'])"
      ],
      "metadata": {
        "id": "hj3YEuoXZZQq"
      },
      "execution_count": null,
      "outputs": []
    },
    {
      "cell_type": "code",
      "source": [
        "print(\"Developer Column:\\n\")\n",
        "print(\"Mode:\", cat_data_analysis['Developer']['mode'])\n",
        "print(\"Mode Count:\",cat_data_analysis['Developer']['mode_count'])\n",
        "print(\"Unique Values:\",cat_data_analysis['Developer']['unique_values_count'])"
      ],
      "metadata": {
        "id": "cll6_b2TZjjs"
      },
      "execution_count": null,
      "outputs": []
    },
    {
      "cell_type": "code",
      "source": [
        "print(\"Publisher Column:\\n\")\n",
        "print(\"Mode:\", cat_data_analysis['Publisher']['mode'])\n",
        "print(\"Mode Count:\",cat_data_analysis['Publisher']['mode_count'])\n",
        "print(\"Unique Values:\",cat_data_analysis['Publisher']['unique_values_count'])"
      ],
      "metadata": {
        "id": "3NX97ZlVadDm"
      },
      "execution_count": null,
      "outputs": []
    },
    {
      "cell_type": "code",
      "source": [
        "print(\"Genres Column:\\n\")\n",
        "print(\"Mode:\", cat_data_analysis['Genres']['mode'])\n",
        "print(\"Mode Count:\",cat_data_analysis['Genres']['mode_count'])\n",
        "print(\"Unique Values:\",cat_data_analysis['Genres']['unique_values_count'])"
      ],
      "metadata": {
        "id": "G29riBfXagWe"
      },
      "execution_count": null,
      "outputs": []
    },
    {
      "cell_type": "code",
      "source": [
        "print(\"Platforms Info Column:\\n\")\n",
        "print(\"Mode:\", cat_data_analysis['Platforms Info']['mode'])\n",
        "print(\"Mode Count:\",cat_data_analysis['Platforms Info']['mode_count'])\n",
        "print(\"Unique Values:\",cat_data_analysis['Platforms Info']['unique_values_count'])"
      ],
      "metadata": {
        "id": "DodpVRquak_P"
      },
      "execution_count": null,
      "outputs": []
    },
    {
      "cell_type": "code",
      "source": [
        "# analyzing quantitative data\n",
        "quant_columns = ['User Score', 'User Ratings Count']\n",
        "quant_data_analysis = {}\n",
        "\n",
        "for col in quant_columns:\n",
        "    col_data = VGRatingsData[col].dropna()\n",
        "    quant_data_analysis[col] = {\n",
        "        'range': (col_data.min(), col_data.max()),\n",
        "        'median': np.median(col_data),\n",
        "        'mean': np.mean(col_data),\n",
        "        'standard_deviation': np.std(col_data)\n",
        "    }\n",
        "\n",
        "quant_data_analysis"
      ],
      "metadata": {
        "id": "uM35c8TXayrM"
      },
      "execution_count": null,
      "outputs": []
    },
    {
      "cell_type": "markdown",
      "source": [
        "User Score: The unit is based on a scale from 0 to 10, representing an average rating given by users.\n",
        "\n",
        "User Ratings Count: Represents the count of individual ratings provided by users for each game."
      ],
      "metadata": {
        "id": "CQyTr4V-bdji"
      }
    },
    {
      "cell_type": "markdown",
      "source": [
        "## Part 1: VGSales Data"
      ],
      "metadata": {
        "id": "9SmPyfTFcFAB"
      }
    },
    {
      "cell_type": "code",
      "source": [
        "VGSalesData.shape"
      ],
      "metadata": {
        "id": "ztmvk-8VfrUn"
      },
      "execution_count": null,
      "outputs": []
    },
    {
      "cell_type": "code",
      "source": [
        "VGSalesData.columns"
      ],
      "metadata": {
        "id": "xuoO2-MlfxU9"
      },
      "execution_count": null,
      "outputs": []
    },
    {
      "cell_type": "markdown",
      "source": [
        "Name: The name of the video game.\n",
        "\n",
        "Platform: The platform on which the game was released.\n",
        "\n",
        "Year_of_Release: The year the game was released.\n",
        "\n",
        "Genre: The genre of the game.\n",
        "\n",
        "Publisher: The company that published the game.\n",
        "\n",
        "NA_Sales: Sales in North America (in millions).\n",
        "\n",
        "EU_Sales: Sales in Europe (in millions).\n",
        "\n",
        "JP_Sales: Sales in Japan (in millions).\n",
        "\n",
        "Other_Sales: Sales in other regions (in millions).\n",
        "\n",
        "Global_Sales: Total worldwide sales (in millions).\n",
        "\n",
        "Critic_Score: Average score given by critics.\n",
        "\n",
        "Critic_Count: The number of critics who reviewed the game.\n",
        "\n",
        "User_Score: Average score given by users.\n",
        "\n",
        "User_Count: The number of users who rated the game.\n",
        "\n",
        "Developer: The company that developed the game.\n",
        "\n",
        "Rating: The ESRB rating of the game."
      ],
      "metadata": {
        "id": "YAr-40aBf8x6"
      }
    },
    {
      "cell_type": "code",
      "source": [
        "# classify each column\n",
        "column_classification_sales = {\n",
        "    'Name': 'categorical',\n",
        "    'Platform': 'categorical',\n",
        "    'Year_of_Release': 'ordinal',\n",
        "    'Genre': 'categorical',\n",
        "    'Publisher': 'categorical',\n",
        "    'NA_Sales': 'continuous',\n",
        "    'EU_Sales': 'continuous',\n",
        "    'JP_Sales': 'continuous',\n",
        "    'Other_Sales': 'continuous',\n",
        "    'Global_Sales': 'continuous',\n",
        "    'Critic_Score': 'continuous',\n",
        "    'Critic_Count': 'discrete',\n",
        "    'User_Score': 'continuous',\n",
        "    'User_Count': 'discrete',\n",
        "    'Developer': 'categorical',\n",
        "    'Rating': 'ordinal'\n",
        "}"
      ],
      "metadata": {
        "id": "bFhj24qIhu5o"
      },
      "execution_count": null,
      "outputs": []
    },
    {
      "cell_type": "code",
      "source": [
        "# analyze the categorical data\n",
        "cat_columns_sales = [col for col, col_type in column_classification_sales.items() if col_type == 'categorical']\n",
        "cat_data_analysis_sales = {}\n",
        "\n",
        "for col in cat_columns_sales:\n",
        "    unique_values = VGSalesData[col].dropna().unique()\n",
        "    value_counts = VGSalesData[col].value_counts()\n",
        "    mode = value_counts.idxmax()\n",
        "    cat_data_analysis_sales[col] = {\n",
        "        'unique_values_count': len(unique_values),\n",
        "        'mode': mode,\n",
        "        'mode_count': value_counts.max(),\n",
        "        'discrete_values': value_counts.to_dict()\n",
        "    }"
      ],
      "metadata": {
        "id": "I46NNOV2h8B3"
      },
      "execution_count": null,
      "outputs": []
    },
    {
      "cell_type": "code",
      "source": [
        "# for categorical data, show various counts of each discrete value, ordered\n",
        "for col in cat_columns_sales:\n",
        "    print(col)\n",
        "    print(cat_data_analysis_sales[col]['discrete_values'])\n",
        "    print(\"\\n\")"
      ],
      "metadata": {
        "id": "SucdAngQiKqh"
      },
      "execution_count": null,
      "outputs": []
    },
    {
      "cell_type": "code",
      "source": [
        "# mode of discrete values\n",
        "for col in cat_columns_sales:\n",
        "    print(col)\n",
        "    print(\"Mode:\", cat_data_analysis_sales[col]['mode'])\n",
        "    print(\"Mode_Count:\", cat_data_analysis_sales[col]['mode_count'])\n",
        "    print(\"Unique Values:\", cat_data_analysis_sales[col]['unique_values_count'])\n",
        "    print(\"\\n\")"
      ],
      "metadata": {
        "id": "5K-KpJQwjBdy"
      },
      "execution_count": null,
      "outputs": []
    },
    {
      "cell_type": "code",
      "source": [
        "# analyze quantitative data\n",
        "quant_columns_sales = [col for col, col_type in column_classification_sales.items() if col_type in ['discrete', 'continuous']]\n",
        "quant_data_analysis_sales = {}\n",
        "\n",
        "# convert 'tbd' to NaN\n",
        "VGSalesData['User_Score'] = pd.to_numeric(VGSalesData['User_Score'], errors='coerce')\n",
        "\n",
        "for col in quant_columns_sales:\n",
        "    col_data = VGSalesData[col].dropna()\n",
        "    quant_data_analysis_sales[col] = {\n",
        "        'range': (col_data.min(), col_data.max()),\n",
        "        'median': col_data.median(),\n",
        "        'mean': col_data.mean(),\n",
        "        'std_dev': col_data.std()\n",
        "    }"
      ],
      "metadata": {
        "id": "eeDPcSlpj3Jq"
      },
      "execution_count": null,
      "outputs": []
    },
    {
      "cell_type": "code",
      "source": [
        "for item in quant_data_analysis_sales:\n",
        "    print(item)\n",
        "    print(quant_data_analysis_sales[item])\n",
        "    print()"
      ],
      "metadata": {
        "id": "xHM61G9WlanX"
      },
      "execution_count": null,
      "outputs": []
    },
    {
      "cell_type": "markdown",
      "source": [
        "## Part 2: Data Wrangling for VGRatings"
      ],
      "metadata": {
        "id": "nFbrZYeyl42l"
      }
    },
    {
      "cell_type": "code",
      "source": [
        "# identify missing Data\n",
        "print(\"Missing Count:\\n\",VGRatingsData.isnull().sum(), \"\\n\\n\")\n",
        "\n",
        "# initial assessment of data types for format correction\n",
        "print(VGRatingsData.dtypes)"
      ],
      "metadata": {
        "id": "PIIFdmfmmYj2"
      },
      "execution_count": null,
      "outputs": []
    },
    {
      "cell_type": "code",
      "source": [
        "VGRatingsData['Title'].mode()"
      ],
      "metadata": {
        "id": "pD_9TjlBrWGc"
      },
      "execution_count": null,
      "outputs": []
    },
    {
      "cell_type": "code",
      "source": [
        "# TITLE\n",
        "# All titles in the ratings data set are unique, so can't replace missing ones with mode (all titles are the \"mode\")\n",
        "# We also may not want to remove the rows since we may able to use other features such as genre for our analysis\n",
        "# Result: if it is missing title and genre --> remove it (losing less than 20 rows out of 14000+)\n",
        "\n",
        "# find rows where both 'Title' and 'Genres' are missing\n",
        "missing_title_genres = VGRatingsData[(VGRatingsData['Title'].isnull()) & (VGRatingsData['Genres'].isnull())]\n",
        "\n",
        "missing_title_genres"
      ],
      "metadata": {
        "id": "fQDHKBwnpdHq"
      },
      "execution_count": null,
      "outputs": []
    },
    {
      "cell_type": "code",
      "source": [
        "# seems like there are 21 empty rows, we will drop all of these\n",
        "# this takes care of all missing data for both title and genre columns\n",
        "\n",
        "# dropping these rows from `ratings_data`\n",
        "VGRatingsData = VGRatingsData.drop(missing_title_genres.index)\n",
        "\n",
        "# checking empty rows are dropped\n",
        "VGRatingsData[(VGRatingsData['Title'].isnull()) & (VGRatingsData['Genres'].isnull())]"
      ],
      "metadata": {
        "id": "Q8RMPgcFpSEU"
      },
      "execution_count": null,
      "outputs": []
    },
    {
      "cell_type": "code",
      "source": [
        "# updated missing data\n",
        "VGRatingsData.isnull().sum()"
      ],
      "metadata": {
        "id": "_L-JR4l0tHBJ"
      },
      "execution_count": null,
      "outputs": []
    },
    {
      "cell_type": "code",
      "source": [
        "# check date data type\n",
        "print(VGRatingsData['Release Date'].dtype)\n",
        "print(type(VGRatingsData['Release Date'][0]))"
      ],
      "metadata": {
        "id": "svq8cAjEt5qp"
      },
      "execution_count": null,
      "outputs": []
    },
    {
      "cell_type": "code",
      "source": [
        "# it is a str and needs to be date\n",
        "\n",
        "# convert 'Release Date' column from string to datetime\n",
        "VGRatingsData['Release Date'] = pd.to_datetime(VGRatingsData['Release Date'])\n",
        "\n",
        "# verify change\n",
        "print(VGRatingsData['Release Date'].dtype)\n",
        "print(type(VGRatingsData['Release Date'][0]))\n",
        "print(VGRatingsData)"
      ],
      "metadata": {
        "id": "On1FC1nYul5a"
      },
      "execution_count": null,
      "outputs": []
    },
    {
      "cell_type": "code",
      "source": [
        "# examine missing release date info\n",
        "VGRatingsData[VGRatingsData['Release Date'].isnull()]"
      ],
      "metadata": {
        "id": "REbB5PK4tKRD"
      },
      "execution_count": null,
      "outputs": []
    },
    {
      "cell_type": "code",
      "source": [
        "# release date mode & count\n",
        "release_date_mode = VGRatingsData['Release Date'].mode()[0]\n",
        "print(release_date_mode)\n",
        "print(VGRatingsData[VGRatingsData['Release Date'] == release_date_mode].shape[0])"
      ],
      "metadata": {
        "id": "lTrPkaBJvgvy"
      },
      "execution_count": null,
      "outputs": []
    },
    {
      "cell_type": "code",
      "source": [
        "# There are 43 rows missing release dates, and the mode occurs even fewer at 27 times\n",
        "# as a result, it may be overly exagerative to replace all the missing dates with this mode\n",
        "# given that these rows are also missing user ratings (primary study of this data set), we will drop this small subset of rows\n",
        "# dropping rows where 'Release Date' is missing\n",
        "VGRatingsData = VGRatingsData.dropna(subset=['Release Date'])\n",
        "\n",
        "# updated missing data\n",
        "VGRatingsData.isnull().sum()"
      ],
      "metadata": {
        "id": "XsB8OxrAwPnT"
      },
      "execution_count": null,
      "outputs": []
    },
    {
      "cell_type": "code",
      "source": [
        "# USER SCORES\n",
        "# missing scores by genre\n",
        "missing_scores_by_genre = VGRatingsData.groupby('Genres')['User Score'].apply(lambda x: x.isnull().sum()).reset_index(name='Missing User Scores')\n",
        "\n",
        "print(missing_scores_by_genre)"
      ],
      "metadata": {
        "id": "LurEEEl5bEVM"
      },
      "execution_count": null,
      "outputs": []
    },
    {
      "cell_type": "code",
      "source": [
        "# Plotting\n",
        "plt.figure(figsize=(20, 12))\n",
        "plt.bar(missing_scores_by_genre['Genres'], missing_scores_by_genre['Missing User Scores'])\n",
        "plt.title('Missing User Scores by Genre')\n",
        "plt.xlabel('Genre')\n",
        "plt.ylabel('Number of Missing User Scores')\n",
        "plt.xticks(rotation=90)\n",
        "plt.tight_layout()\n",
        "plt.show()"
      ],
      "metadata": {
        "id": "Tr6-vjNGcK1y"
      },
      "execution_count": null,
      "outputs": []
    },
    {
      "cell_type": "code",
      "source": [
        "# plot the percentage of rows with missing scores per genre\n",
        "\n",
        "# total number of games per genre\n",
        "total_games_by_genre = VGRatingsData.groupby('Genres').size()\n",
        "\n",
        "# number of missing user scores by genre\n",
        "missing_scores_by_genre = VGRatingsData.groupby('Genres')['User Score'].apply(lambda x: x.isnull().sum())\n",
        "\n",
        "# calculating the percentage of missing user scores per genre\n",
        "percentage_missing_scores = (missing_scores_by_genre / total_games_by_genre * 100).reset_index(name='Percentage Missing User Scores')\n",
        "\n",
        "# plotting  the percentage of missing user scores per genre\n",
        "plt.figure(figsize=(12, 7))\n",
        "plt.bar(percentage_missing_scores['Genres'], percentage_missing_scores['Percentage Missing User Scores'], color='red')\n",
        "plt.title('Percentage of Missing User Scores by Genre')\n",
        "plt.xlabel('Genre')\n",
        "plt.ylabel('Percentage Missing (%)')\n",
        "plt.xticks(rotation=90)\n",
        "plt.tight_layout()\n",
        "plt.show()"
      ],
      "metadata": {
        "id": "ozPVtNkGc7Ls"
      },
      "execution_count": null,
      "outputs": []
    },
    {
      "cell_type": "code",
      "source": [
        "missing_50_plus_genres = percentage_missing_scores[percentage_missing_scores['Percentage Missing User Scores'] > 50]['Genres']\n",
        "missing_50_plus_genres"
      ],
      "metadata": {
        "id": "a1-WcurndS59"
      },
      "execution_count": null,
      "outputs": []
    },
    {
      "cell_type": "code",
      "source": [
        "# find counts for each of these genres\n",
        "genre_counts = {}\n",
        "\n",
        "for genre in missing_50_plus_genres:\n",
        "    count = VGRatingsData[VGRatingsData['Genres'].str.contains(genre)].shape[0]\n",
        "    genre_counts[genre] = count\n",
        "\n",
        "genre_counts"
      ],
      "metadata": {
        "id": "5Iydz0s_eINE"
      },
      "execution_count": null,
      "outputs": []
    },
    {
      "cell_type": "code",
      "source": [
        "# SUMMARY\n",
        "# we believe we will introduce bias by filling missing user score data with the average\n",
        "# for example: there is chance that these games are missing data because they are particularly bad\n",
        "# given that we still have around 12000 games after dropping these rows, our dataset remains suffeciently large\n",
        "\n",
        "# after a thorough analsys of this field we noticed that only 10 genres would lose more than 50% of data,\n",
        "# and all of these ten (except racing) make up less than 52 rows of the df each.\n",
        "# while this negates our ability to answer questions about these genres, we cannot introduce bias into the dataframe\n",
        "# by replaceing more than 50% of some genres\n",
        "\n",
        "VGRatingsData = VGRatingsData.dropna(subset=['User Score'])\n",
        "\n",
        "# updated missing data\n",
        "VGRatingsData.isnull().sum()"
      ],
      "metadata": {
        "id": "vR6tu_8tbex_"
      },
      "execution_count": null,
      "outputs": []
    },
    {
      "cell_type": "code",
      "source": [
        "# investigate\n",
        "plt.figure(figsize=(10, 6))\n",
        "plt.hist(VGRatingsData['Product Rating'].dropna(), bins=20)\n",
        "plt.title('Distribution of Product Ratings')\n",
        "plt.xlabel('Product Rating')\n",
        "plt.ylabel('Frequency')\n",
        "plt.grid(axis='y', alpha=0.75)\n",
        "plt.xticks(rotation=270)\n",
        "\n",
        "plt.show()"
      ],
      "metadata": {
        "id": "FTau6VM1hIK4"
      },
      "execution_count": null,
      "outputs": []
    },
    {
      "cell_type": "code",
      "source": [
        "# we are missing product ratings but these dont need to be filled as they are not central\n",
        "# to our analysis. Filling 2254 rows in may bias the data if were to investigate it\n",
        "# as a result, we will just fill the Nas with \"Missing\" and come back to it if it becomes relvant to the analysis\n",
        "\n",
        "VGRatingsData['Product Rating'] = VGRatingsData['Product Rating'].fillna('Missing')\n",
        "\n",
        "# updated missing data\n",
        "VGRatingsData.isnull().sum()"
      ],
      "metadata": {
        "id": "VWeJOKaRf2Y5"
      },
      "execution_count": null,
      "outputs": []
    },
    {
      "cell_type": "code",
      "source": [
        "# lastly for developers and publishers, we will fill these in with the mode\n",
        "# these may not be central to the analysis, so this should work\n",
        "# the mode is a significant leader in both variables, so that also helps\n",
        "\n",
        "# fill NaN values with the mode\n",
        "VGRatingsData['Developer'] = VGRatingsData['Developer'].fillna(VGRatingsData['Developer'].mode()[0] )\n",
        "VGRatingsData['Publisher'] = VGRatingsData['Publisher'].fillna(VGRatingsData['Publisher'].mode()[0] )\n",
        "\n",
        "# updated missing data\n",
        "VGRatingsData.isnull().sum()"
      ],
      "metadata": {
        "id": "BLUgPR3mhtpb"
      },
      "execution_count": null,
      "outputs": []
    },
    {
      "cell_type": "code",
      "source": [
        "# User ratings count\n",
        "# this is a key variable in our analsysi with high standard deviation.\n",
        "# filling in with mean may not be ideal here\n",
        "VGRatingsData[VGRatingsData['User Ratings Count'].isna()]"
      ],
      "metadata": {
        "id": "ngF-tpEzieyZ"
      },
      "execution_count": null,
      "outputs": []
    },
    {
      "cell_type": "code",
      "source": [
        "missing_URC_by_genre = VGRatingsData.groupby('Genres')['User Ratings Count'].apply(lambda x: x.isnull().sum()).reset_index(name='Missing URC')\n",
        "\n",
        "print(missing_URC_by_genre)"
      ],
      "metadata": {
        "id": "SGGwO2BXjMOP"
      },
      "execution_count": null,
      "outputs": []
    },
    {
      "cell_type": "code",
      "source": [
        "plt.figure(figsize=(20, 12))\n",
        "plt.bar(missing_URC_by_genre['Genres'], missing_URC_by_genre['Missing URC'], color='red')\n",
        "plt.title('Missing User Scores by Genre')\n",
        "plt.xlabel('Genre')\n",
        "plt.ylabel('Number of Missing User Scores')\n",
        "plt.xticks(rotation=90)\n",
        "plt.tight_layout()\n",
        "plt.show()"
      ],
      "metadata": {
        "id": "DgVBIH_Ai8Ls"
      },
      "execution_count": null,
      "outputs": []
    },
    {
      "cell_type": "code",
      "source": [
        "# less than 20 rows will be dropped from genre --> we drop missing URC\n",
        "VGRatingsData = VGRatingsData.dropna(subset=['User Ratings Count'])\n",
        "\n",
        "# updated missing data\n",
        "VGRatingsData.isnull().sum()"
      ],
      "metadata": {
        "id": "pDTZOY6_jnE4"
      },
      "execution_count": null,
      "outputs": []
    },
    {
      "cell_type": "code",
      "source": [
        "# I am suspicios of platform data\n",
        "\n",
        "# check for unusually short entries\n",
        "VGRatingsData[VGRatingsData['Platforms Info'].str.len() < 5]"
      ],
      "metadata": {
        "id": "hNPK-joCkNPk"
      },
      "execution_count": null,
      "outputs": []
    },
    {
      "cell_type": "code",
      "source": [
        "# we don't anticipate using this field, but i'll go ahead and relable this to \"Missing\"\n",
        "VGRatingsData.loc[4802, 'Platforms Info'] = \"Missing\""
      ],
      "metadata": {
        "id": "jMSjlFK2ld1P"
      },
      "execution_count": null,
      "outputs": []
    },
    {
      "cell_type": "code",
      "source": [
        "VGRatingsData.loc[4802]"
      ],
      "metadata": {
        "id": "JdghE3jzmDcy"
      },
      "execution_count": null,
      "outputs": []
    },
    {
      "cell_type": "code",
      "source": [
        "# ALL MISSING VALUES FIXED IN VGRatingsData"
      ],
      "metadata": {
        "id": "y1K556dej0mf"
      },
      "execution_count": null,
      "outputs": []
    },
    {
      "cell_type": "code",
      "source": [
        "# Data validation\n",
        "\n",
        "# Analyzing quantitative data (post wrangling)\n",
        "quant_columns = ['User Score', 'User Ratings Count']\n",
        "quant_data_analysis = {}\n",
        "\n",
        "for col in quant_columns:\n",
        "    col_data = VGRatingsData[col].dropna()\n",
        "    quant_data_analysis[col] = {\n",
        "        'range': (col_data.min(), col_data.max()),\n",
        "        'median': np.median(col_data),\n",
        "        'mean': np.mean(col_data),\n",
        "        'standard_deviation': np.std(col_data)\n",
        "    }\n",
        "\n",
        "quant_data_analysis"
      ],
      "metadata": {
        "id": "F44do2h7j7gt"
      },
      "execution_count": null,
      "outputs": []
    },
    {
      "cell_type": "code",
      "source": [
        "# ranges above for numerical columns is valid"
      ],
      "metadata": {
        "id": "1CuSY9QqmkcK"
      },
      "execution_count": null,
      "outputs": []
    },
    {
      "cell_type": "code",
      "source": [
        "# check for duplicates\n",
        "VGRatingsData[VGRatingsData.duplicated()]\n",
        "# no duplicates"
      ],
      "metadata": {
        "id": "suJGgXKKnoUQ"
      },
      "execution_count": null,
      "outputs": []
    },
    {
      "cell_type": "code",
      "source": [
        "# helper function parsing JSON-like data\n",
        "def parse_platform_info(platform_info_str):\n",
        "    try:\n",
        "        # json to dict\n",
        "        platform_info_list = json.loads(platform_info_str.replace(\"'\", '\"'))\n",
        "        return [info['Platform'] for info in platform_info_list if 'Platform' in info]\n",
        "    except json.JSONDecodeError:\n",
        "        return []\n",
        "VGRatingsData['Platforms'] = VGRatingsData['Platforms Info'].apply(parse_platform_info)"
      ],
      "metadata": {
        "id": "i2lEYyxSzUa1"
      },
      "execution_count": null,
      "outputs": []
    },
    {
      "cell_type": "code",
      "source": [
        "VGRatingsData"
      ],
      "metadata": {
        "id": "fX3THxEmzbqP"
      },
      "execution_count": null,
      "outputs": []
    },
    {
      "cell_type": "markdown",
      "source": [
        "## Part 2: Data Wrangling for VGSalesData"
      ],
      "metadata": {
        "id": "wsFJvBW_m7zo"
      }
    },
    {
      "cell_type": "code",
      "source": [
        "print(VGSalesData.isnull().sum())\n",
        "print()\n",
        "print(VGSalesData.dtypes)\n",
        "print()\n",
        "print(VGSalesData.shape)"
      ],
      "metadata": {
        "id": "xtjPawaSnJAM"
      },
      "execution_count": null,
      "outputs": []
    },
    {
      "cell_type": "code",
      "source": [
        "# caveat, we will not be utilizing the database for user scores, user count, critic scores\n",
        "# or critic count, developer or rating\n",
        "# this info may be supplemental to our analysis of sales but not required, so we will leave those as NaNs\n",
        "\n",
        "# lets see what the rows look like for missing year_of_release\n",
        "VGSalesData[VGSalesData['Year_of_Release'].isna()]"
      ],
      "metadata": {
        "id": "CXoEChJgnkV3"
      },
      "execution_count": null,
      "outputs": []
    },
    {
      "cell_type": "code",
      "source": [
        "print(\"Range:\", (VGSalesData['Year_of_Release'].min(), VGSalesData['Year_of_Release'].max()))\n",
        "print(\"Mean:\", VGSalesData['Year_of_Release'].mean())\n",
        "print(\"Median:\",VGSalesData['Year_of_Release'].median())\n",
        "print(\"Std:\", VGSalesData['Year_of_Release'].std())"
      ],
      "metadata": {
        "id": "w7AGV1IGpkHi"
      },
      "execution_count": null,
      "outputs": []
    },
    {
      "cell_type": "code",
      "source": [
        "# there is only 4 records beyond 2016, lets drop these to make charts more clean\n",
        "VGSalesData = VGSalesData[VGSalesData['Year_of_Release'] <= 2016]"
      ],
      "metadata": {
        "id": "bP6erC5G1Nml"
      },
      "execution_count": null,
      "outputs": []
    },
    {
      "cell_type": "code",
      "source": [
        "# after investigation it seems fitting to use the median value for missing year columns\n",
        "# there is only 270 missing after all\n",
        "\n",
        "VGSalesData['Year_of_Release'] = VGSalesData['Year_of_Release'] .fillna(VGSalesData['Year_of_Release'].median())"
      ],
      "metadata": {
        "id": "xaA4xJfNphvk"
      },
      "execution_count": null,
      "outputs": []
    },
    {
      "cell_type": "code",
      "source": [
        "# let's also convert the float value to integer\n",
        "VGSalesData['Year_of_Release'] = VGSalesData['Year_of_Release'].astype(int)"
      ],
      "metadata": {
        "id": "ViAm07QgrSMp"
      },
      "execution_count": null,
      "outputs": []
    },
    {
      "cell_type": "code",
      "source": [
        "VGSalesData.isnull().sum()"
      ],
      "metadata": {
        "id": "OWUFctTcql6c"
      },
      "execution_count": null,
      "outputs": []
    },
    {
      "cell_type": "code",
      "source": [
        "# each game is unique and we cannot work with missing game names so we will drop\n",
        "VGSalesData = VGSalesData.dropna(subset=['Name'])\n",
        "\n",
        "# updated missing data\n",
        "VGSalesData.isnull().sum()"
      ],
      "metadata": {
        "id": "z2gXW_T5qorx"
      },
      "execution_count": null,
      "outputs": []
    },
    {
      "cell_type": "code",
      "source": [
        "#lets investigate missing publisher data:\n",
        "VGSalesData[VGSalesData['Publisher'].isna()]"
      ],
      "metadata": {
        "id": "JTdSPPvUq-J0"
      },
      "execution_count": null,
      "outputs": []
    },
    {
      "cell_type": "code",
      "source": [
        "VGSalesData['Publisher'].mode()"
      ],
      "metadata": {
        "id": "ZODN6fWjsUZA"
      },
      "execution_count": null,
      "outputs": []
    },
    {
      "cell_type": "code",
      "source": [
        "# let's fill these rows with the mode as well since it is only 50 rows and the mode is very large\n",
        "VGSalesData['Publisher'] = VGSalesData['Publisher'].fillna(VGSalesData['Publisher'].mode()[0])\n",
        "\n",
        "# updated missing data\n",
        "VGSalesData.isnull().sum()"
      ],
      "metadata": {
        "id": "Lo2BBOTEr2G4"
      },
      "execution_count": null,
      "outputs": []
    },
    {
      "cell_type": "code",
      "source": [
        "# check if any global sales = 0\n",
        "VGSalesData[VGSalesData['Global_Sales']==0]"
      ],
      "metadata": {
        "id": "m8zzJWlZrMOC"
      },
      "execution_count": null,
      "outputs": []
    },
    {
      "cell_type": "code",
      "source": [
        "for item in quant_data_analysis_sales:\n",
        "    print(item)\n",
        "    print(quant_data_analysis_sales[item])\n",
        "    print()"
      ],
      "metadata": {
        "id": "r8hs2as1s48_"
      },
      "execution_count": null,
      "outputs": []
    },
    {
      "cell_type": "code",
      "source": [
        "### all rows in valid range"
      ],
      "metadata": {
        "id": "1y3T3Rx-s7k9"
      },
      "execution_count": null,
      "outputs": []
    },
    {
      "cell_type": "code",
      "source": [
        "# check for right formats again\n",
        "\n",
        "VGSalesData.dtypes"
      ],
      "metadata": {
        "id": "3vORmwfns9nl"
      },
      "execution_count": null,
      "outputs": []
    },
    {
      "cell_type": "markdown",
      "source": [
        "## Part 3: Statistical Analysis"
      ],
      "metadata": {
        "id": "NNzkHzBYtZpE"
      }
    },
    {
      "cell_type": "code",
      "source": [
        "VGRatingsData.dtypes"
      ],
      "metadata": {
        "id": "LWi1RI0zuQdm"
      },
      "execution_count": null,
      "outputs": []
    },
    {
      "cell_type": "code",
      "source": [
        "# correlation matrix for ratings data\n",
        "correlation_matrix = VGRatingsData.corr(numeric_only=True)\n",
        "\n",
        "plt.figure(figsize=(10, 8))\n",
        "sns.heatmap(correlation_matrix, annot=True, cmap='coolwarm')\n",
        "plt.show()\n",
        "\n",
        "# seems that more ratings does not necessarily correlate to higher or lower ratings"
      ],
      "metadata": {
        "id": "LksXuQ6NtdXh"
      },
      "execution_count": null,
      "outputs": []
    },
    {
      "cell_type": "markdown",
      "source": [
        "*No significant correlations among quantitative variables in VGRtaingsData*"
      ],
      "metadata": {
        "id": "gt8WDsekuJf-"
      }
    },
    {
      "cell_type": "code",
      "source": [
        "VGSalesData.dtypes"
      ],
      "metadata": {
        "id": "GcjIAY6euUJZ"
      },
      "execution_count": null,
      "outputs": []
    },
    {
      "cell_type": "code",
      "source": [
        "# correlation matrix for sales data\n",
        "correlation_matrix = VGSalesData.corr(numeric_only=True)\n",
        "\n",
        "plt.figure(figsize=(10, 8))\n",
        "sns.heatmap(correlation_matrix, annot=True, cmap='coolwarm')\n",
        "plt.show()\n",
        "\n",
        "# global sales highy correlated with na sales and global sales"
      ],
      "metadata": {
        "id": "lRIPMmVvual0"
      },
      "execution_count": null,
      "outputs": []
    },
    {
      "cell_type": "markdown",
      "source": [
        "*Some values are highly correlated!*"
      ],
      "metadata": {
        "id": "qWVfrGTPupi6"
      }
    },
    {
      "cell_type": "code",
      "source": [
        "# Find highly correlated pairs (>0.7)\n",
        "highly_correlated_pairs = correlation_matrix.unstack().sort_values(kind=\"quicksort\", ascending=False)\n",
        "print(highly_correlated_pairs[(abs(highly_correlated_pairs) > 0.7) & (abs(highly_correlated_pairs) < 1)])"
      ],
      "metadata": {
        "id": "UY-YjqgMustH"
      },
      "execution_count": null,
      "outputs": []
    },
    {
      "cell_type": "markdown",
      "source": [
        "Highly Correlated Pairs Are:\n",
        "* Global_Sales & NA_Sales (0.941)\n",
        "* Global_Sales & EU_Sales (0.901)\n",
        "* **NA_Sales & EU_Sales (0.765)**\n",
        "* Other_Sales & Global Sales (0.749)\n",
        "* **Other_Sales & EU_Sales (0.723)**\n",
        "\n",
        "The only ones worth noting are bolded! This is because anything above related to global_sales, is entirely incorporated into it. All NA_Sales numbers are added to global_sales to create global_sales by definition."
      ],
      "metadata": {
        "id": "zHvf-7WuvHj2"
      }
    },
    {
      "cell_type": "code",
      "source": [
        "# removing outliers as they signnficantly skewed the graphs\n",
        "# no outlier df\n",
        "VGSales_no_outliers = VGSalesData\n",
        "\n",
        "# Calculating Z-scores\n",
        "VGSales_no_outliers['Z_Score_NA_Sales'] = np.abs(stats.zscore(VGSales_no_outliers['NA_Sales']))\n",
        "VGSales_no_outliers['Z_Score_EU_Sales'] = np.abs(stats.zscore(VGSales_no_outliers['EU_Sales']))\n",
        "VGSales_no_outliers['Z_Score_Global_Sales'] = np.abs(stats.zscore(VGSales_no_outliers['Global_Sales']))\n",
        "VGSales_no_outliers['Z_Score_Other_Sales'] = np.abs(stats.zscore(VGSales_no_outliers['Other_Sales']))\n",
        "\n",
        "# Filtering out outliers\n",
        "VGSales_no_outliers = VGSales_no_outliers[(VGSales_no_outliers['Z_Score_NA_Sales'] < 3)]\n",
        "VGSales_no_outliers = VGSales_no_outliers[(VGSales_no_outliers['Z_Score_EU_Sales'] < 3)]\n",
        "VGSales_no_outliers = VGSales_no_outliers[(VGSales_no_outliers['Z_Score_Global_Sales'] < 3)]\n",
        "VGSales_no_outliers = VGSales_no_outliers[(VGSales_no_outliers['Z_Score_Other_Sales'] < 3)]"
      ],
      "metadata": {
        "id": "CbbjW3MI235m"
      },
      "execution_count": null,
      "outputs": []
    },
    {
      "cell_type": "code",
      "source": [
        "VGSales_no_outliers = VGSales_no_outliers.sort_values(by='NA_Sales')\n",
        "x = VGSales_no_outliers['NA_Sales']\n",
        "y = VGSales_no_outliers['EU_Sales']\n",
        "plt.scatter(x, y)\n",
        "\n",
        "# linear\n",
        "p1 = polyfit(x, y, 1)\n",
        "plt.plot(x, poly1d(p1)(x), label='Linear')\n",
        "\n",
        "# quadratic\n",
        "p2 = polyfit(x, y, 2)\n",
        "plt.plot(x, poly1d(p2)(x), label='Quadratic')\n",
        "\n",
        "# cubic\n",
        "p3 = polyfit(x, y, 3)\n",
        "plt.plot(x, poly1d(p3)(x), label='Cubic')\n",
        "\n",
        "plt.legend()\n",
        "plt.show()\n",
        "\n",
        "# predictions for each model\n",
        "y_pred_linear = poly1d(polyfit(x, y, 1))(x)\n",
        "y_pred_quadratic = poly1d(polyfit(x, y, 2))(x)\n",
        "y_pred_cubic = poly1d(polyfit(x, y, 3))(x)\n",
        "\n",
        "# RMSE for each model\n",
        "rmse_linear = sqrt(mean_squared_error(y, y_pred_linear))\n",
        "rmse_quadratic = sqrt(mean_squared_error(y, y_pred_quadratic))\n",
        "rmse_cubic = sqrt(mean_squared_error(y, y_pred_cubic))\n",
        "\n",
        "# Print RMSE values\n",
        "print(\"Linear Fit RMSE:\", rmse_linear)\n",
        "print(\"Quadratic Fit RMSE:\", rmse_quadratic)\n",
        "print(\"Cubic Fit RMSE:\", rmse_cubic)"
      ],
      "metadata": {
        "id": "OBwev8xnvHQ9"
      },
      "execution_count": null,
      "outputs": []
    },
    {
      "cell_type": "code",
      "source": [
        "VGSales_no_outliers = VGSales_no_outliers.sort_values(by='Other_Sales')\n",
        "\n",
        "x = VGSales_no_outliers['Other_Sales']\n",
        "y = VGSales_no_outliers['EU_Sales']\n",
        "plt.scatter(x, y)\n",
        "\n",
        "# linear\n",
        "p1 = polyfit(x, y, 1)\n",
        "plt.plot(x, poly1d(p1)(x), label='Linear')\n",
        "\n",
        "# quadratic\n",
        "p2 = polyfit(x, y, 2)\n",
        "plt.plot(x, poly1d(p2)(x), label='Quadratic')\n",
        "\n",
        "# cubic\n",
        "p3 = polyfit(x, y, 3)\n",
        "plt.plot(x, poly1d(p3)(x), label='Cubic')\n",
        "\n",
        "plt.legend()\n",
        "plt.show()\n",
        "\n",
        "# predict\n",
        "y_pred_linear = poly1d(polyfit(x, y, 1))(x)\n",
        "y_pred_quadratic = poly1d(polyfit(x, y, 2))(x)\n",
        "y_pred_cubic = poly1d(polyfit(x, y, 3))(x)\n",
        "\n",
        "# rmse\n",
        "rmse_linear = sqrt(mean_squared_error(y, y_pred_linear))\n",
        "rmse_quadratic = sqrt(mean_squared_error(y, y_pred_quadratic))\n",
        "rmse_cubic = sqrt(mean_squared_error(y, y_pred_cubic))\n",
        "\n",
        "print(\"Linear RMSE:\", rmse_linear)\n",
        "print(\"Quadratic RMSE:\", rmse_quadratic)\n",
        "print(\"Cubic RMSE:\", rmse_cubic)"
      ],
      "metadata": {
        "id": "ijYUH3Tl2od2"
      },
      "execution_count": null,
      "outputs": []
    },
    {
      "cell_type": "code",
      "source": [
        "# All relationships are generally linear. The key point is the interconnectedness of global_sales with all other sales variables"
      ],
      "metadata": {
        "id": "_1hEI7EC0zJw"
      },
      "execution_count": null,
      "outputs": []
    },
    {
      "cell_type": "markdown",
      "source": [
        "# Design"
      ],
      "metadata": {
        "id": "i9vpLDxqpF-O"
      }
    },
    {
      "cell_type": "code",
      "source": [
        "avg_score = VGRatingsData['User Score'].mean()"
      ],
      "metadata": {
        "id": "Gn0WFAIjpeLf"
      },
      "execution_count": null,
      "outputs": []
    },
    {
      "cell_type": "code",
      "source": [
        "alt.data_transformers.disable_max_rows()\n",
        "\n",
        "# count number of games released each year\n",
        "games_per_year = VGSalesData['Year_of_Release'].value_counts().reset_index()\n",
        "games_per_year.columns = ['Year_of_Release', 'Number_of_Games']\n",
        "games_per_year = games_per_year.sort_values('Year_of_Release')\n",
        "\n",
        "# histogram of games per year\n",
        "click = alt.selection_multi(fields=['Year_of_Release'], encodings=['x'])\n",
        "histogram = alt.Chart(games_per_year).mark_bar().encode(\n",
        "    x=alt.X('Year_of_Release:O', title='Release Year'),\n",
        "    y=alt.Y('Number_of_Games:Q', title='Number of Games'),\n",
        "    tooltip=['Year_of_Release', 'Number_of_Games'],\n",
        "    color=alt.condition(click, alt.value('steelblue'), alt.value('lightgray'))).properties(\n",
        "        title='Number of Games Released Each Year',\n",
        "        width=600).add_selection(click)\n",
        "\n",
        "# bar chart for publisher numbers (filtered by the selection)\n",
        "publisher_chart = alt.Chart(VGSalesData).mark_bar().encode(\n",
        "    x=alt.X('count():Q', title='Number of Games'),\n",
        "    y=alt.Y('Publisher:N', sort='-x', title='Publisher'),\n",
        "    tooltip=['Publisher', 'count()'],\n",
        "    color=alt.condition(click, alt.value('steelblue'), alt.value('steelblue'))).transform_filter(click).properties(\n",
        "        title='Number of Games Released by Publishers',\n",
        "        width=600)\n",
        "\n",
        "alt.hconcat(histogram, publisher_chart)\n",
        "\n",
        "# make sure to scroll up for this chart, we left the long tail for comprehensive info"
      ],
      "metadata": {
        "id": "M7gcVI6N3TLQ"
      },
      "execution_count": null,
      "outputs": []
    },
    {
      "cell_type": "code",
      "source": [
        "# interactive bubble chart that shows the relationship between the number of\n",
        "# games released, their global sales, and user ratings over time\n",
        "\n",
        "# convert 'User_Score' and 'Global_Sales' to numeric,\n",
        "VGSalesData['User_Score'] = pd.to_numeric(VGSalesData['User_Score'], errors='coerce')\n",
        "VGSalesData['Global_Sales'] = pd.to_numeric(VGSalesData['Global_Sales'], errors='coerce')\n",
        "# make sure 'Year_of_Release' = int\n",
        "VGSalesData['Year_of_Release'] = VGSalesData['Year_of_Release'].astype(int)\n",
        "\n",
        "# calculate the total number of games, total global sales, and average user score per year\n",
        "aggregated_data = VGSalesData.groupby('Year_of_Release').agg(\n",
        "    Number_of_Games=('Name', 'size'),\n",
        "    Total_Global_Sales=('Global_Sales', 'sum'),\n",
        "    Average_User_Score=('User_Score', 'mean')).reset_index()\n",
        "\n",
        "# bubble chart\n",
        "fig = px.scatter(\n",
        "    aggregated_data,\n",
        "    x='Year_of_Release',\n",
        "    y='Total_Global_Sales',\n",
        "    size='Number_of_Games',\n",
        "    color='Average_User_Score',\n",
        "    hover_name='Year_of_Release',\n",
        "    title = 'Temporal Analysis of Global Sales Volume (Bubble Size Represents Total Number of Games, Color Reflects Average User Scores)',\n",
        "    labels={\n",
        "        'Total_Global_Sales': 'Total Global Sales (Millions)',\n",
        "        'Year_of_Release': 'Year of Release',\n",
        "        'Number_of_Games': 'Number of Games Released',\n",
        "        'Average_User_Score': 'Average User Score'},\n",
        "    size_max=60, color_continuous_scale=px.colors.sequential.Plasma)\n",
        "\n",
        "# layout\n",
        "fig.update_layout(\n",
        "    xaxis_title='Year of Release',\n",
        "    yaxis_title='Total Global Sales (Millions USD)',\n",
        "    coloraxis_colorbar=dict(title='Average User Rating'))\n",
        "\n",
        "# frames for animation\n",
        "frames = [go.Frame(\n",
        "    data=[go.Scatter(\n",
        "        x=aggregated_data['Year_of_Release'][aggregated_data['Year_of_Release'] == year],\n",
        "        y=aggregated_data['Total_Global_Sales'][aggregated_data['Year_of_Release'] == year],\n",
        "        marker=dict(size=aggregated_data['Number_of_Games'][aggregated_data['Year_of_Release'] == year]),)],\n",
        "    name=str(year)) for year in aggregated_data['Year_of_Release'].unique()]\n",
        "fig.frames = frames\n",
        "fig.show()"
      ],
      "metadata": {
        "id": "rIMs6Lgk-z9W"
      },
      "execution_count": null,
      "outputs": []
    },
    {
      "cell_type": "code",
      "source": [
        "# Choropleth with Time Slider for Regional Sales Trends\n",
        "# sales by year &  region\n",
        "sales_by_year_region = VGSalesData.groupby('Year_of_Release').agg({\n",
        "    'NA_Sales': 'sum',\n",
        "    'EU_Sales': 'sum',\n",
        "    'JP_Sales': 'sum',\n",
        "    'Other_Sales': 'sum'}).reset_index()\n",
        "\n",
        "# ISO country codes for each region (to identify what other countries are for plotting)\n",
        "eu_countries = ['DEU', 'GBR', 'FRA', 'ITA', 'ESP', 'POL', 'UKR', 'ROU', 'NLD', 'BEL',\n",
        "                'SWE', 'CZE', 'GRC', 'PRT', 'HUN', 'BLR', 'AUT', 'CHE', 'SRB', 'BGR',\n",
        "                'DNK', 'SVK', 'FIN', 'NOR', 'IRL', 'HRV', 'MDA', 'BIH', 'ALB', 'LTU',\n",
        "                'SVN', 'MKD', 'LVA', 'EST', 'LUX', 'MNE', 'MLT', 'ISL', 'AND', 'LIE',\n",
        "                'MCO', 'SMR', 'VAT']\n",
        "na_countries = ['USA', 'CAN', 'MEX']\n",
        "jpn = ['JPN']\n",
        "all_countries = [country.alpha_3 for country in pycountry.countries]\n",
        "other_countries = [code for code in all_countries if code not in eu_countries + na_countries + jpn]\n",
        "\n",
        "rows_list = []\n",
        "\n",
        "for index, row in sales_by_year_region.iterrows():\n",
        "    for region_name, countries, sales in [('EU', eu_countries, row['EU_Sales']),\n",
        "                                          ('NA', na_countries, row['NA_Sales']),\n",
        "                                          ('JPN', jpn, row['JP_Sales']),\n",
        "                                          ('Other', other_countries, row['Other_Sales'])]:\n",
        "        for country in countries:\n",
        "            rows_list.append({'Year': row['Year_of_Release'], 'Country': country, 'Sales': sales})\n",
        "df = pd.DataFrame(rows_list)\n",
        "years = sorted(VGSalesData['Year_of_Release'].dropna().unique())\n",
        "fig = go.Figure()\n",
        "\n",
        "# choropleth trace for each year\n",
        "for year in years:\n",
        "    year_df = df[df['Year'] == year]\n",
        "    fig.add_trace(\n",
        "        go.Choropleth(\n",
        "            locations=year_df['Country'],\n",
        "            z=year_df['Sales'],\n",
        "            colorscale='Rainbow',\n",
        "            zmin=df['Sales'].min(),\n",
        "            zmax=df['Sales'].max(),\n",
        "            marker_line_color='darkgray',\n",
        "            marker_line_width=0.5,\n",
        "            colorbar_title='Sales<br>Millions USD',\n",
        "            visible=False))\n",
        "fig.data[0].visible = True\n",
        "\n",
        "# steps for slider\n",
        "steps = []\n",
        "for i, year in enumerate(years):\n",
        "    step = dict(\n",
        "        method=\"update\",\n",
        "        args=[{\"visible\": [False] * len(fig.data)},\n",
        "              {\"title\": f\"Video Game Sales Trends by Region- {year}\"}],\n",
        "        label=str(year))\n",
        "    step[\"args\"][0][\"visible\"][i] = True\n",
        "    steps.append(step)\n",
        "\n",
        "# slider\n",
        "sliders = [dict(\n",
        "    active=0,\n",
        "    currentvalue={\"prefix\": \"Year: \"},\n",
        "    steps=steps)]\n",
        "\n",
        "fig.update_layout(\n",
        "    sliders=sliders,\n",
        "    geo=dict(\n",
        "        showframe=False,\n",
        "        showcoastlines=False,\n",
        "        projection_type='natural earth'),  # mollweide\n",
        "    title_text=f\"Video Game Sales Trends by Region: {years[0]}\")\n",
        "fig.show()"
      ],
      "metadata": {
        "id": "9DjvwYDRqK9n"
      },
      "execution_count": null,
      "outputs": []
    },
    {
      "cell_type": "code",
      "source": [
        "# convert 'User Score' to numeric and drop missing rows\n",
        "VGRatingsData['User Score'] = pd.to_numeric(VGRatingsData['User Score'], errors='coerce')\n",
        "plot_df = VGRatingsData.dropna(subset=['User Score', 'Genres'])\n",
        "\n",
        "# extract year\n",
        "plot_df['Year_of_Release'] = pd.to_datetime(plot_df['Release Date']).dt.year\n",
        "\n",
        "# find top 5 genres and filter data\n",
        "filtered_data = plot_df[plot_df['Genres'].isin(plot_df['Genres'].value_counts().nlargest(5).index)]\n",
        "\n",
        "# group data by 'Year_of_Release' & 'Genres'\n",
        "user_scores_per_year_genre = filtered_data.groupby(['Year_of_Release', 'Genres'])['User Score'].mean().reset_index()\n",
        "\n",
        "fig = go.Figure()\n",
        "\n",
        "# line trace for each genre with smoothing\n",
        "genres = user_scores_per_year_genre['Genres'].unique()\n",
        "for genre in genres:\n",
        "    genre_data = user_scores_per_year_genre[user_scores_per_year_genre['Genres'] == genre]\n",
        "    fig.add_trace(go.Scatter(\n",
        "        x=genre_data['Year_of_Release'],\n",
        "        y=genre_data['User Score'],\n",
        "        mode='lines',\n",
        "        line_shape='spline',\n",
        "        name=genre))\n",
        "\n",
        "# overall avg score line\n",
        "fig.add_shape(type=\"line\",\n",
        "    x0=min(user_scores_per_year_genre['Year_of_Release']),\n",
        "    y0=avg_score,\n",
        "    x1=max(user_scores_per_year_genre['Year_of_Release']),\n",
        "    y1=avg_score,\n",
        "    line=dict(\n",
        "        color=\"grey\",\n",
        "        width=3,\n",
        "        dash=\"dash\",))\n",
        "\n",
        "# annotation for avg line\n",
        "fig.add_annotation(\n",
        "        x=min(user_scores_per_year_genre['Year_of_Release']),\n",
        "        y=avg_score,\n",
        "        text=\"Average Rating: {:.2f}\".format(avg_score),\n",
        "        showarrow=True,\n",
        "        arrowhead=1,\n",
        "        ax=75,\n",
        "        ay=25,\n",
        "        bgcolor=\"white\",\n",
        "        bordercolor=\"grey\",\n",
        "        borderwidth=1,\n",
        "        borderpad=4,\n",
        "        font=dict(color=\"grey\",size=12))\n",
        "\n",
        "# interactive legend\n",
        "fig.update_layout(legend_visible=True)\n",
        "\n",
        "fig.update_xaxes(\n",
        "    tickmode='linear',\n",
        "    dtick=1,\n",
        "    tick0=min(user_scores_per_year_genre['Year_of_Release']),\n",
        "    range=[min(user_scores_per_year_genre['Year_of_Release']), max(user_scores_per_year_genre['Year_of_Release'])])\n",
        "\n",
        "# labels\n",
        "fig.update_layout(\n",
        "    title='Average User Ratings Over Time by Top 5 Genres',\n",
        "    xaxis_title='Year of Release',\n",
        "    yaxis_title='Average User Score',\n",
        "    hovermode='x unified',\n",
        "    legend_title='Genres (select)')\n",
        "fig.show()"
      ],
      "metadata": {
        "id": "qWFpyE4b_JJP"
      },
      "execution_count": null,
      "outputs": []
    },
    {
      "cell_type": "code",
      "source": [
        "VGRatingsData['User Score'] = pd.to_numeric(VGRatingsData['User Score'], errors='coerce')\n",
        "developer_scores = VGRatingsData.dropna(subset=['User Score', 'Developer'])\n",
        "\n",
        "# group data by developer\n",
        "average_scores = developer_scores.groupby('Developer')['User Score'].agg(['mean', 'count']).reset_index()\n",
        "average_scores.columns = ['Developer', 'Average Score', 'Games Developed']\n",
        "\n",
        "# slider interaction\n",
        "min_games_slider = alt.binding_range(min=1, max=average_scores['Games Developed'].max(), step=1, name='Min Games:')\n",
        "slider_selection = alt.selection_single(bind=min_games_slider, fields=['Games Developed'], init={'Games Developed': 48})\n",
        "\n",
        "# bar chart\n",
        "alt.Chart(average_scores).mark_bar().encode(\n",
        "    x=alt.X('Average Score:Q', title='Developer Score'),\n",
        "    y=alt.Y('Developer:N', sort='-x', title='Developer'),\n",
        "    tooltip=['Developer', 'Average Score', 'Games Developed']).transform_filter(\n",
        "    alt.datum['Games Developed'] >= slider_selection['Games Developed']).properties(\n",
        "        width=800,\n",
        "        height=600,\n",
        "        title='Developer Effectiveness on User Ratings').add_selection(slider_selection)"
      ],
      "metadata": {
        "id": "CUKBxZF4CsWH"
      },
      "execution_count": null,
      "outputs": []
    },
    {
      "cell_type": "code",
      "source": [
        "# filter df for only games by top 10 most popular publishers\n",
        "filtered_df = VGRatingsData[VGRatingsData['Publisher'].isin(VGRatingsData['Publisher'].value_counts().head(10).index)]\n",
        "\n",
        "# only games w/ >= 1000 user ratings\n",
        "filtered_df = filtered_df[filtered_df['User Ratings Count'] >= 1000]\n",
        "\n",
        "# 'Release Date' --> datetime\n",
        "filtered_df['Release Date'] = pd.to_datetime(filtered_df['Release Date'])\n",
        "\n",
        "# bubble chart\n",
        "fig = px.scatter(filtered_df,\n",
        "                 x='Release Date',\n",
        "                 y='User Score',\n",
        "                 size='User Ratings Count',\n",
        "                 color='Publisher',\n",
        "                 hover_name='Title',\n",
        "                 title='Average User Ratings Over Time (Bubble Size Represents Ratings Count, Color Represents Publishers)',\n",
        "                 labels={'User Ratings Count': 'Number of User Ratings'})\n",
        "\n",
        "\n",
        "# average user score line\n",
        "fig.add_shape(type=\"line\",\n",
        "              x0='1995-01-01 00:00:00',\n",
        "              y0=avg_score,\n",
        "              x1='2025-01-01 00:00:00',\n",
        "              y1=avg_score,\n",
        "              line=dict(color=\"grey\", width=3, dash=\"dash\"))\n",
        "\n",
        "# annotation for average line\n",
        "fig.add_annotation(x=filtered_df['Release Date'].min(),\n",
        "                   y=avg_score,\n",
        "                   text=\"Average Rating: {:.2f}\".format(avg_score),\n",
        "                   showarrow=False,\n",
        "                   yshift =0,\n",
        "                   bgcolor=\"white\",\n",
        "                   bordercolor=\"grey\",\n",
        "                   borderwidth=1,\n",
        "                   borderpad=4,\n",
        "                   font=dict(color=\"grey\", size=12))\n",
        "\n",
        "fig.update_layout(\n",
        "    xaxis_title='Release Date',\n",
        "    yaxis_title='Average User Score (0-10)',\n",
        "    legend_title='Top 10 Publishers',\n",
        "    transition_duration=500)\n",
        "\n",
        "fig.show()"
      ],
      "metadata": {
        "id": "8PttfQjfYyXj"
      },
      "execution_count": null,
      "outputs": []
    }
  ]
}